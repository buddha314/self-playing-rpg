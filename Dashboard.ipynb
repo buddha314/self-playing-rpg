{
 "cells": [
  {
   "cell_type": "markdown",
   "metadata": {},
   "source": [
    "# World Dashboard\n",
    "\n",
    "To run in the app environment\n",
    "\n",
    "```\n",
    "export FLASK_APP=app/__init__.py\n",
    "from app.models import *\n",
    "```"
   ]
  },
  {
   "cell_type": "code",
   "execution_count": 178,
   "metadata": {
    "collapsed": false
   },
   "outputs": [
    {
     "name": "stdout",
     "output_type": "stream",
     "text": [
      "The autoreload extension is already loaded. To reload it, use:\n",
      "  %reload_ext autoreload\n"
     ]
    }
   ],
   "source": [
    "%load_ext autoreload\n",
    "import pandas as pd"
   ]
  },
  {
   "cell_type": "code",
   "execution_count": null,
   "metadata": {
    "collapsed": false
   },
   "outputs": [
    {
     "name": "stdout",
     "output_type": "stream",
     "text": [
      "Fight!\n",
      "Fight!\n",
      "Fight!\n",
      "no combat\n",
      "Fight!\n",
      "no combat\n",
      "no combat\n",
      "Fight!\n",
      "Fight!\n",
      "no combat\n",
      "Fight!\n",
      "Fight!\n",
      "Fight!\n",
      "no combat\n",
      "Fight!\n",
      "no combat\n",
      "no combat\n",
      "Fight!\n",
      "no combat\n",
      "Fight!\n",
      "Fight!\n",
      "Fight!\n",
      "no combat\n",
      "no combat\n",
      "no combat\n",
      "Fight!\n",
      "Fight!\n",
      "Fight!\n",
      "no combat\n",
      "Murder!\n",
      "Fight!\n",
      "Fight!\n",
      "no combat\n",
      "Fight!\n",
      "Fight!\n",
      "Murder!\n",
      "Fight!\n",
      "Fight!\n",
      "no combat\n",
      "no combat\n",
      "Murder!\n",
      "Fight!\n",
      "Murder!\n",
      "Fight!\n",
      "Murder!\n",
      "Fight!\n",
      "no combat\n",
      "no combat\n",
      "no combat\n",
      "Fight!\n",
      "Fight!\n",
      "Fight!\n",
      "no combat\n",
      "Fight!\n",
      "Fight!"
     ]
    }
   ],
   "source": [
    "%autoreload\n",
    "import app\n",
    "from app.models import *\n",
    "from app.services import *\n",
    "n_days = 365\n",
    "world = World()\n",
    "game = Game(world, ndays=365, nyears=2)\n",
    "game.run()\n",
    "res = pd.DataFrame(game.report())\n",
    "res"
   ]
  },
  {
   "cell_type": "code",
   "execution_count": null,
   "metadata": {
    "collapsed": true
   },
   "outputs": [],
   "source": []
  }
 ],
 "metadata": {
  "kernelspec": {
   "display_name": "Python 2",
   "language": "python",
   "name": "python2"
  },
  "language_info": {
   "codemirror_mode": {
    "name": "ipython",
    "version": 2
   },
   "file_extension": ".py",
   "mimetype": "text/x-python",
   "name": "python",
   "nbconvert_exporter": "python",
   "pygments_lexer": "ipython2",
   "version": "2.7.10"
  }
 },
 "nbformat": 4,
 "nbformat_minor": 0
}
